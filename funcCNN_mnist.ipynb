{
  "nbformat": 4,
  "nbformat_minor": 0,
  "metadata": {
    "colab": {
      "name": "funcCNN_mnist.ipynb",
      "provenance": [],
      "collapsed_sections": [],
      "authorship_tag": "ABX9TyNjar2FpnYJgNFqQg20u0WD",
      "include_colab_link": true
    },
    "kernelspec": {
      "name": "python3",
      "display_name": "Python 3"
    },
    "language_info": {
      "name": "python"
    },
    "accelerator": "GPU"
  },
  "cells": [
    {
      "cell_type": "markdown",
      "metadata": {
        "id": "view-in-github",
        "colab_type": "text"
      },
      "source": [
        "<a href=\"https://colab.research.google.com/github/seawavve/CNN_wavve/blob/main/funcCNN_mnist.ipynb\" target=\"_parent\"><img src=\"https://colab.research.google.com/assets/colab-badge.svg\" alt=\"Open In Colab\"/></a>"
      ]
    },
    {
      "cell_type": "code",
      "metadata": {
        "colab": {
          "base_uri": "https://localhost:8080/"
        },
        "id": "eVO-EG5_W5sU",
        "outputId": "4337f2af-50f2-45ce-9d7b-d8e6efb98397"
      },
      "source": [
        "import tensorflow as tf\n",
        "from tensorflow import keras\n",
        "from tensorflow.keras import layers\n",
        "from tensorflow.keras import datasets\n",
        "import copy\n",
        "import numpy as np\n",
        "import random\n",
        "import time\n",
        "import sys\n",
        "\n",
        "lr = 0.030999752044677\n",
        "opt = keras.optimizers.Adagrad(learning_rate=lr)\n",
        "actF = 'relu'\n",
        "ks = 5\n",
        "depth = 2\n",
        "fc_layer = 1\n",
        "drop_out = 0.42299808221717194\n",
        "\n",
        "img_rows = 28\n",
        "img_cols = 28\n",
        "(x_train, y_train), (x_test, y_test) = keras.datasets.mnist.load_data()\n",
        "input_shape = (img_rows, img_cols, 1)\n",
        "batch_size = 128\n",
        "num_classes = 10\n",
        "epochs =10\n",
        "\n",
        "y_train = keras.utils.to_categorical(y_train, num_classes)\n",
        "y_test = keras.utils.to_categorical(y_test, num_classes)\n",
        "\n",
        "inputs = keras.Input(shape = input_shape, name = 'input')\n",
        "output = layers.Conv2D(filters = 32, kernel_size = [3,3], padding = 'same', activation = actF)(inputs)\n",
        "output = layers.MaxPooling2D(pool_size=(2, 2), strides=(2, 2), padding = 'same')(output)\n",
        "k= layers.Dropout(rate=drop_out)(output)\n",
        "output= layers.Conv2D(filters=32, kernel_size=[3,3], padding='same', activation=actF)(output)\n",
        "output=layers.Add()([k,output])\n",
        "\n",
        "output = layers.GlobalAveragePooling2D()(output)\n",
        "output = layers.Dense(1000, activation = actF, name='fc0')(output)\n",
        "dropout = layers.Dropout(rate=drop_out)(output)\n",
        "output = layers.Dense(10, activation = 'softmax', name='output')(dropout)\n",
        "\n",
        "model = keras.Model(inputs = inputs, outputs = output)\n",
        "model.summary()\n",
        "\n",
        "model.compile(loss='categorical_crossentropy', optimizer = opt, metrics=['accuracy'])\n",
        "hist = model.fit(x_train, y_train, batch_size=batch_size, epochs=epochs, verbose=1, validation_data=(x_test, y_test))\n",
        "\n",
        "score = model.evaluate(x_test, y_test, verbose=0)\n",
        "print('Test loss:',  score[0])\n",
        "print('Test accuracy:', score[1])\n",
        "model.save('./saved/model.h5')"
      ],
      "execution_count": 9,
      "outputs": [
        {
          "output_type": "stream",
          "text": [
            "Model: \"model_6\"\n",
            "__________________________________________________________________________________________________\n",
            "Layer (type)                    Output Shape         Param #     Connected to                     \n",
            "==================================================================================================\n",
            "input (InputLayer)              [(None, 28, 28, 1)]  0                                            \n",
            "__________________________________________________________________________________________________\n",
            "conv2d_13 (Conv2D)              (None, 28, 28, 32)   320         input[0][0]                      \n",
            "__________________________________________________________________________________________________\n",
            "max_pooling2d_4 (MaxPooling2D)  (None, 14, 14, 32)   0           conv2d_13[0][0]                  \n",
            "__________________________________________________________________________________________________\n",
            "dropout_13 (Dropout)            (None, 14, 14, 32)   0           max_pooling2d_4[0][0]            \n",
            "__________________________________________________________________________________________________\n",
            "conv2d_14 (Conv2D)              (None, 14, 14, 32)   9248        max_pooling2d_4[0][0]            \n",
            "__________________________________________________________________________________________________\n",
            "add_6 (Add)                     (None, 14, 14, 32)   0           dropout_13[0][0]                 \n",
            "                                                                 conv2d_14[0][0]                  \n",
            "__________________________________________________________________________________________________\n",
            "global_average_pooling2d_6 (Glo (None, 32)           0           add_6[0][0]                      \n",
            "__________________________________________________________________________________________________\n",
            "fc0 (Dense)                     (None, 1000)         33000       global_average_pooling2d_6[0][0] \n",
            "__________________________________________________________________________________________________\n",
            "dropout_14 (Dropout)            (None, 1000)         0           fc0[0][0]                        \n",
            "__________________________________________________________________________________________________\n",
            "output (Dense)                  (None, 10)           10010       dropout_14[0][0]                 \n",
            "==================================================================================================\n",
            "Total params: 52,578\n",
            "Trainable params: 52,578\n",
            "Non-trainable params: 0\n",
            "__________________________________________________________________________________________________\n",
            "Epoch 1/10\n",
            "469/469 [==============================] - 2s 4ms/step - loss: 2.7196 - accuracy: 0.2901 - val_loss: 1.0516 - val_accuracy: 0.6064\n",
            "Epoch 2/10\n",
            "469/469 [==============================] - 2s 4ms/step - loss: 0.9058 - accuracy: 0.6754 - val_loss: 0.3973 - val_accuracy: 0.8873\n",
            "Epoch 3/10\n",
            "469/469 [==============================] - 2s 4ms/step - loss: 0.4818 - accuracy: 0.8422 - val_loss: 0.2657 - val_accuracy: 0.9219\n",
            "Epoch 4/10\n",
            "469/469 [==============================] - 2s 4ms/step - loss: 0.3340 - accuracy: 0.8918 - val_loss: 0.2271 - val_accuracy: 0.9315\n",
            "Epoch 5/10\n",
            "469/469 [==============================] - 2s 4ms/step - loss: 0.2726 - accuracy: 0.9144 - val_loss: 0.1966 - val_accuracy: 0.9403\n",
            "Epoch 6/10\n",
            "469/469 [==============================] - 2s 4ms/step - loss: 0.2256 - accuracy: 0.9295 - val_loss: 0.1599 - val_accuracy: 0.9518\n",
            "Epoch 7/10\n",
            "469/469 [==============================] - 2s 4ms/step - loss: 0.1934 - accuracy: 0.9405 - val_loss: 0.1503 - val_accuracy: 0.9548\n",
            "Epoch 8/10\n",
            "469/469 [==============================] - 2s 4ms/step - loss: 0.1754 - accuracy: 0.9455 - val_loss: 0.1293 - val_accuracy: 0.9589\n",
            "Epoch 9/10\n",
            "469/469 [==============================] - 2s 4ms/step - loss: 0.1632 - accuracy: 0.9497 - val_loss: 0.1162 - val_accuracy: 0.9625\n",
            "Epoch 10/10\n",
            "469/469 [==============================] - 2s 4ms/step - loss: 0.1518 - accuracy: 0.9533 - val_loss: 0.1193 - val_accuracy: 0.9618\n",
            "Test loss: 0.1192738488316536\n",
            "Test accuracy: 0.9617999792098999\n"
          ],
          "name": "stdout"
        }
      ]
    },
    {
      "cell_type": "code",
      "metadata": {
        "colab": {
          "base_uri": "https://localhost:8080/"
        },
        "id": "PtCvJzkbZPXO",
        "outputId": "d7536b1b-1efd-4786-a7a8-d91ba74b9450"
      },
      "source": [
        "print('Test loss:',  score[0])\n",
        "print('Test accuracy:', score[1])"
      ],
      "execution_count": 2,
      "outputs": [
        {
          "output_type": "stream",
          "text": [
            "Test loss: 40.24993133544922\n",
            "Test accuracy: 0.10999999940395355\n"
          ],
          "name": "stdout"
        }
      ]
    }
  ]
}