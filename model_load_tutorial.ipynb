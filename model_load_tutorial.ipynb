{
  "nbformat": 4,
  "nbformat_minor": 0,
  "metadata": {
    "colab": {
      "name": "model_load_tutorial.ipynb",
      "provenance": [],
      "collapsed_sections": [],
      "authorship_tag": "ABX9TyPZLjqInNqAvNW3DljcJpkh",
      "include_colab_link": true
    },
    "kernelspec": {
      "name": "python3",
      "display_name": "Python 3"
    },
    "language_info": {
      "name": "python"
    },
    "accelerator": "GPU"
  },
  "cells": [
    {
      "cell_type": "markdown",
      "metadata": {
        "id": "view-in-github",
        "colab_type": "text"
      },
      "source": [
        "<a href=\"https://colab.research.google.com/github/seawavve/CNN_wavve/blob/main/model_load_tutorial.ipynb\" target=\"_parent\"><img src=\"https://colab.research.google.com/assets/colab-badge.svg\" alt=\"Open In Colab\"/></a>"
      ]
    },
    {
      "cell_type": "code",
      "metadata": {
        "colab": {
          "base_uri": "https://localhost:8080/"
        },
        "id": "B7Q0daj83HGr",
        "outputId": "072ceaec-35f7-4cbf-f447-89caf295cce3"
      },
      "source": [
        "import tensorflow as tf\n",
        "from tensorflow import keras\n",
        "from tensorflow.keras import layers\n",
        "from tensorflow.keras import datasets\n",
        "from tensorflow.keras.utils import plot_model\n",
        "from keras.callbacks import EarlyStopping,ModelCheckpoint\n",
        "import copy\n",
        "import numpy as np\n",
        "import random\n",
        "import time\n",
        "import sys\n",
        "\n",
        "lr = 0.5488999809265137\n",
        "initW = 'None'\n",
        "opt = keras.optimizers.Adadelta(learning_rate=lr, rho=0.95)\n",
        "actF = 'sigmoid'\n",
        "ks = 3\n",
        "depth = 2\n",
        "fc_layer = 3\n",
        "drop_out = 0.47\n",
        "byp = 4\n",
        "\n",
        "img_rows = 28\n",
        "img_cols = 28\n",
        "(x_train, y_train), (x_test, y_test) = keras.datasets.mnist.load_data()\n",
        "input_shape = (img_rows, img_cols, 1)\n",
        "batch_size = 128\n",
        "num_classes = 10\n",
        "epochs =25\n",
        "y_train = keras.utils.to_categorical(y_train, num_classes)\n",
        "y_test = keras.utils.to_categorical(y_test, num_classes)\n",
        "\n",
        "filename='checkpoint.h5'.format(25)\n",
        "early_stopping=EarlyStopping(monitor='val_loss',mode='min',patience=15,verbose=1)\n",
        "checkpoint=ModelCheckpoint(filename,monitor='val_loss',verbose=1,save_best_only=True)\n",
        "from keras.models import load_model\n",
        "model = load_model('./model_0.h5')\n",
        "\n",
        "plot_model(model, to_file='model_shapes.png', show_shapes=True)\n",
        "score = model.evaluate(x_test, y_test, verbose=0)\n",
        "print(\"Accuracy=\", score[1], \"genetic\")\n",
        "\n",
        "\n",
        "# result = model.predict_classes(xhat)\n",
        "\n",
        "# for i in range(5):\n",
        "#     print('True : ' + str(argmax(y_test[xhat_idx[i]])) + ', Predict : ' + str(yhat[i]))"
      ],
      "execution_count": 6,
      "outputs": [
        {
          "output_type": "stream",
          "text": [
            "Accuracy= 0.9794999957084656 genetic\n"
          ],
          "name": "stdout"
        }
      ]
    }
  ]
}